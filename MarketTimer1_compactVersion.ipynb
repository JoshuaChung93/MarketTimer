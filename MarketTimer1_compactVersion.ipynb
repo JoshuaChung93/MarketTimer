{
 "cells": [
  {
   "cell_type": "code",
   "execution_count": 1,
   "id": "8eedb1e2",
   "metadata": {},
   "outputs": [
    {
     "name": "stdout",
     "output_type": "stream",
     "text": [
      "Requirement already satisfied: finance-datareader in c:\\users\\jaeuk chung\\miniconda3\\envs\\py38\\lib\\site-packages (0.9.34)\n",
      "Requirement already satisfied: tqdm in c:\\users\\jaeuk chung\\miniconda3\\envs\\py38\\lib\\site-packages (from finance-datareader) (4.64.0)\n",
      "Requirement already satisfied: requests>=2.3.0 in c:\\users\\jaeuk chung\\miniconda3\\envs\\py38\\lib\\site-packages (from finance-datareader) (2.28.1)\n",
      "Requirement already satisfied: pandas>=0.19.2 in c:\\users\\jaeuk chung\\miniconda3\\envs\\py38\\lib\\site-packages (from finance-datareader) (1.4.3)\n",
      "Requirement already satisfied: requests-file in c:\\users\\jaeuk chung\\miniconda3\\envs\\py38\\lib\\site-packages (from finance-datareader) (1.5.1)\n",
      "Requirement already satisfied: lxml in c:\\users\\jaeuk chung\\miniconda3\\envs\\py38\\lib\\site-packages (from finance-datareader) (4.9.1)\n",
      "Requirement already satisfied: pytz>=2020.1 in c:\\users\\jaeuk chung\\miniconda3\\envs\\py38\\lib\\site-packages (from pandas>=0.19.2->finance-datareader) (2022.1)\n",
      "Requirement already satisfied: numpy>=1.18.5 in c:\\users\\jaeuk chung\\miniconda3\\envs\\py38\\lib\\site-packages (from pandas>=0.19.2->finance-datareader) (1.23.1)\n",
      "Requirement already satisfied: python-dateutil>=2.8.1 in c:\\users\\jaeuk chung\\miniconda3\\envs\\py38\\lib\\site-packages (from pandas>=0.19.2->finance-datareader) (2.8.2)\n",
      "Requirement already satisfied: charset-normalizer<3,>=2 in c:\\users\\jaeuk chung\\miniconda3\\envs\\py38\\lib\\site-packages (from requests>=2.3.0->finance-datareader) (2.1.0)\n",
      "Requirement already satisfied: urllib3<1.27,>=1.21.1 in c:\\users\\jaeuk chung\\miniconda3\\envs\\py38\\lib\\site-packages (from requests>=2.3.0->finance-datareader) (1.26.10)\n",
      "Requirement already satisfied: idna<4,>=2.5 in c:\\users\\jaeuk chung\\miniconda3\\envs\\py38\\lib\\site-packages (from requests>=2.3.0->finance-datareader) (3.3)\n",
      "Requirement already satisfied: certifi>=2017.4.17 in c:\\users\\jaeuk chung\\miniconda3\\envs\\py38\\lib\\site-packages (from requests>=2.3.0->finance-datareader) (2022.6.15)\n",
      "Requirement already satisfied: six in c:\\users\\jaeuk chung\\miniconda3\\envs\\py38\\lib\\site-packages (from requests-file->finance-datareader) (1.16.0)\n",
      "Requirement already satisfied: colorama in c:\\users\\jaeuk chung\\miniconda3\\envs\\py38\\lib\\site-packages (from tqdm->finance-datareader) (0.4.5)\n",
      "\n",
      "[notice] A new release of pip available: 22.1.2 -> 22.2.2\n",
      "[notice] To update, run: python.exe -m pip install --upgrade pip\n",
      "Requirement already satisfied: python-telegram-bot in c:\\users\\jaeuk chung\\miniconda3\\envs\\py38\\lib\\site-packages (13.13)\n",
      "Requirement already satisfied: cachetools==4.2.2 in c:\\users\\jaeuk chung\\miniconda3\\envs\\py38\\lib\\site-packages (from python-telegram-bot) (4.2.2)\n",
      "Requirement already satisfied: APScheduler==3.6.3 in c:\\users\\jaeuk chung\\miniconda3\\envs\\py38\\lib\\site-packages (from python-telegram-bot) (3.6.3)\n",
      "Requirement already satisfied: pytz>=2018.6 in c:\\users\\jaeuk chung\\miniconda3\\envs\\py38\\lib\\site-packages (from python-telegram-bot) (2022.1)\n",
      "Requirement already satisfied: certifi in c:\\users\\jaeuk chung\\miniconda3\\envs\\py38\\lib\\site-packages (from python-telegram-bot) (2022.6.15)\n",
      "Requirement already satisfied: tornado>=6.1 in c:\\users\\jaeuk chung\\miniconda3\\envs\\py38\\lib\\site-packages (from python-telegram-bot) (6.2)\n",
      "Requirement already satisfied: six>=1.4.0 in c:\\users\\jaeuk chung\\miniconda3\\envs\\py38\\lib\\site-packages (from APScheduler==3.6.3->python-telegram-bot) (1.16.0)\n",
      "Requirement already satisfied: setuptools>=0.7 in c:\\users\\jaeuk chung\\miniconda3\\envs\\py38\\lib\\site-packages (from APScheduler==3.6.3->python-telegram-bot) (61.2.0)\n",
      "Requirement already satisfied: tzlocal>=1.2 in c:\\users\\jaeuk chung\\miniconda3\\envs\\py38\\lib\\site-packages (from APScheduler==3.6.3->python-telegram-bot) (4.2)\n",
      "Requirement already satisfied: tzdata in c:\\users\\jaeuk chung\\miniconda3\\envs\\py38\\lib\\site-packages (from tzlocal>=1.2->APScheduler==3.6.3->python-telegram-bot) (2022.2)\n",
      "Requirement already satisfied: pytz-deprecation-shim in c:\\users\\jaeuk chung\\miniconda3\\envs\\py38\\lib\\site-packages (from tzlocal>=1.2->APScheduler==3.6.3->python-telegram-bot) (0.1.0.post0)\n",
      "Requirement already satisfied: backports.zoneinfo in c:\\users\\jaeuk chung\\miniconda3\\envs\\py38\\lib\\site-packages (from tzlocal>=1.2->APScheduler==3.6.3->python-telegram-bot) (0.2.1)\n",
      "\n",
      "[notice] A new release of pip available: 22.1.2 -> 22.2.2\n",
      "[notice] To update, run: python.exe -m pip install --upgrade pip\n",
      "Requirement already satisfied: numpyencoder in c:\\users\\jaeuk chung\\miniconda3\\envs\\py38\\lib\\site-packages (0.3.0)\n",
      "Requirement already satisfied: numpy>=1.14.3 in c:\\users\\jaeuk chung\\miniconda3\\envs\\py38\\lib\\site-packages (from numpyencoder) (1.23.1)\n",
      "\n",
      "[notice] A new release of pip available: 22.1.2 -> 22.2.2\n",
      "[notice] To update, run: python.exe -m pip install --upgrade pip\n"
     ]
    }
   ],
   "source": [
    "# 필요한 라이브러리 설치 및 불러오기\n",
    "!pip install -U finance-datareader\n",
    "!pip install python-telegram-bot\n",
    "!pip install numpyencoder"
   ]
  },
  {
   "cell_type": "code",
   "execution_count": 2,
   "id": "c74c6ee2",
   "metadata": {},
   "outputs": [],
   "source": [
    "import FinanceDataReader as fdr\n",
    "import matplotlib.pyplot as plt\n",
    "%matplotlib inline\n",
    "import numpy as np\n",
    "import pandas as pd\n",
    "import datetime\n",
    "from datetime import date\n",
    "import sys\n",
    "fdr.__version__\n",
    "import schedule\n",
    "import time\n",
    "import pytz\n",
    "from numpyencoder import NumpyEncoder"
   ]
  },
  {
   "cell_type": "code",
   "execution_count": 3,
   "id": "868e90f6",
   "metadata": {},
   "outputs": [
    {
     "name": "stdout",
     "output_type": "stream",
     "text": [
      "-1001631306025\n"
     ]
    }
   ],
   "source": [
    "# telegram API importing\n",
    "import telegram\n",
    "API_KEY = '5569257444:AAGV21Ds4fkrxhXkrevkdvQ289vGVcajYTU'\n",
    "bot = telegram.Bot(token=API_KEY)\n",
    "updates = bot.get_updates()\n",
    "# for i in updates:\n",
    "#     print(i.message['chat']['id'])\n",
    "public_chat_name = '@MarketTimer_alarm_bot'\n",
    "id_channel = bot.sendMessage(chat_id = public_chat_name, text='hi!').chat_id\n",
    "print(id_channel)"
   ]
  },
  {
   "cell_type": "code",
   "execution_count": null,
   "id": "1173ecb8",
   "metadata": {},
   "outputs": [
    {
     "name": "stdout",
     "output_type": "stream",
     "text": [
      "Start App..\n"
     ]
    }
   ],
   "source": [
    "import json\n",
    "\n",
    "count = 1\n",
    "\n",
    "def job():\n",
    "    # 전역변수 설정\n",
    "    global Market_timing\n",
    "    global count\n",
    "    count += 1\n",
    "    # 한국시각, 주말 설정\n",
    "    now = datetime.datetime.now(pytz.timezone('Asia/Seoul'))\n",
    "    today = date.today()\n",
    "    weekend = today.weekday()\n",
    "    # 예외시간 설정. 9시 이전 및 15시 이후, 주말에는 알람을 보내지 않음\n",
    "    if now.hour >= 15 or now.hour <= 9 or weekend == [5, 6]:\n",
    "        return\n",
    "    API_KEY = '5569257444:AAGV21Ds4fkrxhXkrevkdvQ289vGVcajYTU'\n",
    "    bot = telegram.Bot(token=API_KEY)\n",
    "#     for i in updates:\n",
    "#     print(i.message['chat']['id'])\n",
    "    \n",
    "    # 코스닥지수\n",
    "    code = 'KQ11'\n",
    "    df = fdr.DataReader('KQ11','2022-08').reset_index()\n",
    "    # 3,5,10 이동평균 딕셔너리에 할당\n",
    "    df['close_sma3d'] = df['Close'].rolling(3).mean()\n",
    "    df['close_sma5d'] = df['Close'].rolling(5).mean()\n",
    "    df['close_sma10d'] = df['Close'].rolling(10).mean()\n",
    "    # dataframe 재구성\n",
    "    df2 = df.loc[: ,['Date','Close', 'close_sma3d','close_sma5d','close_sma10d']].iloc[-1:]\n",
    "    alerts = df2[(df2['Close'] > df2['close_sma3d']) | (df2['Close'] > df2['close_sma5d']) | (df2['Close'] > df2['close_sma10d'])]\n",
    "    \n",
    "#     def display(row):\n",
    "# #         row.to_json(orient='records')\n",
    "#         print(f\" - {row['Date']} Signal 발생! 코스닥_현재가 {row['Close']} 3일이동평균 {row['close_sma3d']:.2f} 5일이동평균 {row['close_sma5d']:.2f} 10일이동평균 {row['close_sma10d']:.2f}\")\n",
    "#     Market_timing = alerts.apply(display, axis=1)\n",
    "    for index, row in alerts.iterrows():\n",
    "        z = row['Close']\n",
    "        a = round(row['close_sma3d'], 2)\n",
    "        b = round(row['close_sma5d'], 2)\n",
    "        c = round(row['close_sma10d'], 2)\n",
    "    # telegram 알람에서 출력하기 위해 datetime64만 json str 형식으로 변환\n",
    "        jsonstr1 = json.dumps(str(row['Date']))\n",
    "        Market_timing = (f\"{jsonstr1} Signal 발생! 코스닥_현재가 {z} 3일이동평균 {a} 5일이동평균 {b} 10일이동평균 {c}\")\n",
    "    \n",
    "    if count % 2 == 0:\n",
    "        bot.sendMessage(chat_id = '1001631306025', text = Market_timing)\n",
    "    else:\n",
    "        print('대기 중입니다..')\n",
    "\n",
    "# 2 시간 마다 실행\n",
    "# schedule.every(2).hours.do(job)\n",
    "schedule.every(1).minutes.do(job)\n",
    "\n",
    "print('Start App..')\n",
    "\n",
    "while True:\n",
    "    schedule.run_pending()\n",
    "    time.sleep(1)"
   ]
  },
  {
   "cell_type": "code",
   "execution_count": null,
   "id": "738cf07b",
   "metadata": {},
   "outputs": [],
   "source": []
  }
 ],
 "metadata": {
  "kernelspec": {
   "display_name": "Python 3 (ipykernel)",
   "language": "python",
   "name": "python3"
  },
  "language_info": {
   "codemirror_mode": {
    "name": "ipython",
    "version": 3
   },
   "file_extension": ".py",
   "mimetype": "text/x-python",
   "name": "python",
   "nbconvert_exporter": "python",
   "pygments_lexer": "ipython3",
   "version": "3.8.13"
  }
 },
 "nbformat": 4,
 "nbformat_minor": 5
}
