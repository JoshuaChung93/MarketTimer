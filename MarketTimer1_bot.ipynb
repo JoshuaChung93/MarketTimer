{
 "cells": [
  {
   "cell_type": "code",
   "execution_count": 1,
   "id": "83b40df7",
   "metadata": {},
   "outputs": [
    {
     "name": "stdout",
     "output_type": "stream",
     "text": [
      "Collecting python-telegram-bot\n",
      "  Downloading python_telegram_bot-13.13-py3-none-any.whl (513 kB)\n",
      "     -------------------------------------- 513.4/513.4 kB 6.5 MB/s eta 0:00:00\n",
      "Requirement already satisfied: tornado>=6.1 in c:\\users\\jaeuk chung\\miniconda3\\envs\\py38\\lib\\site-packages (from python-telegram-bot) (6.2)\n",
      "Requirement already satisfied: certifi in c:\\users\\jaeuk chung\\miniconda3\\envs\\py38\\lib\\site-packages (from python-telegram-bot) (2022.6.15)\n",
      "Collecting APScheduler==3.6.3\n",
      "  Downloading APScheduler-3.6.3-py2.py3-none-any.whl (58 kB)\n",
      "     ---------------------------------------- 58.9/58.9 kB ? eta 0:00:00\n",
      "Collecting cachetools==4.2.2\n",
      "  Downloading cachetools-4.2.2-py3-none-any.whl (11 kB)\n",
      "Requirement already satisfied: pytz>=2018.6 in c:\\users\\jaeuk chung\\miniconda3\\envs\\py38\\lib\\site-packages (from python-telegram-bot) (2022.1)\n",
      "Requirement already satisfied: six>=1.4.0 in c:\\users\\jaeuk chung\\miniconda3\\envs\\py38\\lib\\site-packages (from APScheduler==3.6.3->python-telegram-bot) (1.16.0)\n",
      "Requirement already satisfied: setuptools>=0.7 in c:\\users\\jaeuk chung\\miniconda3\\envs\\py38\\lib\\site-packages (from APScheduler==3.6.3->python-telegram-bot) (61.2.0)\n",
      "Collecting tzlocal>=1.2\n",
      "  Downloading tzlocal-4.2-py3-none-any.whl (19 kB)\n",
      "Collecting pytz-deprecation-shim\n",
      "  Downloading pytz_deprecation_shim-0.1.0.post0-py2.py3-none-any.whl (15 kB)\n",
      "Collecting backports.zoneinfo\n",
      "  Downloading backports.zoneinfo-0.2.1-cp38-cp38-win_amd64.whl (38 kB)\n",
      "Collecting tzdata\n",
      "  Downloading tzdata-2022.2-py2.py3-none-any.whl (336 kB)\n",
      "     ------------------------------------- 336.4/336.4 kB 10.2 MB/s eta 0:00:00\n",
      "Installing collected packages: tzdata, cachetools, backports.zoneinfo, pytz-deprecation-shim, tzlocal, APScheduler, python-telegram-bot\n",
      "Successfully installed APScheduler-3.6.3 backports.zoneinfo-0.2.1 cachetools-4.2.2 python-telegram-bot-13.13 pytz-deprecation-shim-0.1.0.post0 tzdata-2022.2 tzlocal-4.2\n",
      "\n",
      "[notice] A new release of pip available: 22.1.2 -> 22.2.2\n",
      "[notice] To update, run: python.exe -m pip install --upgrade pip\n"
     ]
    }
   ],
   "source": [
    "!pip install python-telegram-bot"
   ]
  },
  {
   "cell_type": "code",
   "execution_count": 2,
   "id": "9ff4d90a",
   "metadata": {},
   "outputs": [],
   "source": [
    "import telegram\n",
    "API_KEY = '5569257444:AAGV21Ds4fkrxhXkrevkdvQ289vGVcajYTU'\n",
    "bot = telegram.Bot(token=API_KEY)"
   ]
  },
  {
   "cell_type": "code",
   "execution_count": 3,
   "id": "396ebe6c",
   "metadata": {},
   "outputs": [
    {
     "data": {
      "text/plain": [
       "[]"
      ]
     },
     "execution_count": 3,
     "metadata": {},
     "output_type": "execute_result"
    }
   ],
   "source": [
    "updates = bot.getUpdates()\n",
    "updates"
   ]
  },
  {
   "cell_type": "code",
   "execution_count": 4,
   "id": "82b91325",
   "metadata": {},
   "outputs": [],
   "source": [
    "for i in updates:\n",
    "    print(i)"
   ]
  },
  {
   "cell_type": "code",
   "execution_count": 5,
   "id": "b5c95920",
   "metadata": {},
   "outputs": [],
   "source": [
    "chat_id = 'your_chat_id'"
   ]
  },
  {
   "cell_type": "code",
   "execution_count": null,
   "id": "725ca6e0",
   "metadata": {},
   "outputs": [],
   "source": []
  }
 ],
 "metadata": {
  "kernelspec": {
   "display_name": "Python 3 (ipykernel)",
   "language": "python",
   "name": "python3"
  },
  "language_info": {
   "codemirror_mode": {
    "name": "ipython",
    "version": 3
   },
   "file_extension": ".py",
   "mimetype": "text/x-python",
   "name": "python",
   "nbconvert_exporter": "python",
   "pygments_lexer": "ipython3",
   "version": "3.8.13"
  }
 },
 "nbformat": 4,
 "nbformat_minor": 5
}
